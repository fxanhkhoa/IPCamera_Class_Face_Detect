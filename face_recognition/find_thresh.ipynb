{
 "cells": [
  {
   "cell_type": "code",
   "execution_count": 7,
   "metadata": {},
   "outputs": [
    {
     "name": "stdout",
     "output_type": "stream",
     "text": [
      "[+] Load data....\n",
      "1\n",
      "0\n",
      "1\n",
      "[+] Load data finished\n",
      "[19, 20, 21, 22, 23, 24, 25, 26, 27, 28, 29, 30, 31, 32, 33, 34, 35, 36, 37, 38, 39, 40, 41, 42, 43, 44, 45, 46, 47, 48, 49, 50, 51, 52, 53, 54, 55, 56, 57, 58, 59, 60, 61, 62, 63, 64, 65, 66]\n",
      "19\n",
      "48\n"
     ]
    },
    {
     "data": {
      "image/png": "[encoded data removed]",
      "text/plain": [
       "<Figure size 432x288 with 1 Axes>"
      ]
     },
     "metadata": {
      "needs_background": "light"
     },
     "output_type": "display_data"
    }
   ],
   "source": [
    "import matplotlib.pyplot as plt\n",
    "import numpy as np\n",
    "import os\n",
    "import matplotlib.pyplot as plt\n",
    "import cv2\n",
    "from sklearn.decomposition import PCA\n",
    "from mpl_toolkits.mplot3d import Axes3D\n",
    "from mpl_toolkits.mplot3d import proj3d\n",
    "from imageio import imread\n",
    "from skimage.transform import resize\n",
    "from scipy.spatial import distance\n",
    "from keras.models import load_model\n",
    "import pandas as pd\n",
    "from tqdm import tqdm\n",
    "\n",
    "# def face_distance(face_encodings, labels, face_to_compare, tolerance):\n",
    "#     if len(face_encodings) == 0:\n",
    "#         return np.empty((0))\n",
    "\n",
    "#     preds = np.linalg.norm(face_encodings - face_to_compare, axis=1)\n",
    "#     sort_prob = np.argsort(preds)\n",
    "#     if preds[sort_prob[0]] > tolerance:\n",
    "#         return -1\n",
    "#     return labels[sort_prob[0]]\n",
    "\n",
    "# def compare_faces(known_face_encodings, labels, face_encoding_to_check, tolerance=0.6):\n",
    "#     return face_distance(known_face_encodings, labels, face_encoding_to_check, tolerance)\n",
    "\n",
    "def load_features(src):\n",
    "    print(\"[+] Load data....\")\n",
    "    data = []\n",
    "    label = []\n",
    "    same_label = [[]]\n",
    "    k = 0\n",
    "    count = 0\n",
    "    with open(src, \"r\") as file:\n",
    "        for i,line in enumerate(file):\n",
    "            img_path = line[:-1]\n",
    "            #print(\"[+] Read image  : \", img_path,\" id : \", i)\n",
    "            if os.path.isfile(img_path) and img_path.find(\".jpg\") != -1:            \n",
    "                save_path = img_path.replace(\"images\", \"features\").replace(\".jpg\", \".npy\")        \n",
    "                if os.path.isfile(save_path):\n",
    "                    lb = save_path.split(\"/\")[1]\n",
    "                    # lb1 = lb.split(\".\")[1]\n",
    "                    # print (lb)\n",
    "                    # print(save_path)\n",
    "                    data.append(np.load(save_path))\n",
    "                    label.append(lb)\n",
    "                    if (count == 0):\n",
    "                        prelb = lb\n",
    "                    if (lb == prelb):\n",
    "                        same_label[k].append(count)\n",
    "                        count += 1\n",
    "                    else:\n",
    "                        print(prelb)\n",
    "                        prelb = lb\n",
    "                        k += 1\n",
    "                        same_label.append([])\n",
    "                        same_label[k].append(count)\n",
    "                        count += 1\n",
    "                        \n",
    "    print(\"[+] Load data finished\")\n",
    "    return np.array(data), label, same_label\n",
    "\n",
    "def draw_histogram(src):\n",
    "    data, label, label2idx = load_features(src)\n",
    "\n",
    "    match_distances = []\n",
    "    print(label2idx[1])\n",
    "    for i in range(2):\n",
    "        ids = label2idx[i]\n",
    "        print(len(ids))\n",
    "        distances = []\n",
    "        for j in range(len(ids) - 1):\n",
    "            for k in range(j + 1, len(ids)):\n",
    "                distances.append(distance.euclidean(data[ids[j]], data[ids[k]]))\n",
    "        match_distances.extend(distances)\n",
    "\n",
    "    unmatch_distances = []\n",
    "    for i in range(2):\n",
    "        ids = label2idx[i]\n",
    "        distances = []\n",
    "        for j in range(400):\n",
    "            idx = np.random.randint(data.shape[0])\n",
    "            while idx in label2idx[i]:\n",
    "                idx = np.random.randint(data.shape[0])\n",
    "            distances.append(distance.euclidean(data[ids[np.random.randint(len(ids))]], data[idx]))\n",
    "        unmatch_distances.extend(distances)\n",
    "    \n",
    "    _,_,_=plt.hist(match_distances,bins=100)\n",
    "    _,_,_=plt.hist(unmatch_distances,bins=100,fc=(1, 0, 0, 0.5))\n",
    "\n",
    "train = 'db/db1/combine.txt'\n",
    "draw_histogram(train)"
   ]
  },
  {
   "cell_type": "code",
   "execution_count": null,
   "metadata": {},
   "outputs": [],
   "source": []
  },
  {
   "cell_type": "code",
   "execution_count": null,
   "metadata": {},
   "outputs": [],
   "source": []
  }
 ],
 "metadata": {
  "kernelspec": {
   "display_name": "tf",
   "language": "python",
   "name": "tf"
  },
  "language_info": {
   "codemirror_mode": {
    "name": "ipython",
    "version": 3
   },
   "file_extension": ".py",
   "mimetype": "text/x-python",
   "name": "python",
   "nbconvert_exporter": "python",
   "pygments_lexer": "ipython3",
   "version": "3.5.6"
  }
 },
 "nbformat": 4,
 "nbformat_minor": 2
}
